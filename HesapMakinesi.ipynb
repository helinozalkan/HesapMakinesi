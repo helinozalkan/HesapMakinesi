{
 "cells": [
  {
   "cell_type": "code",
   "execution_count": 127,
   "id": "02dcac50",
   "metadata": {},
   "outputs": [],
   "source": [
    "import tkinter as tk\n",
    "from tkinter import ttk\n",
    "from math import *\n"
   ]
  },
  {
   "cell_type": "code",
   "execution_count": 128,
   "id": "62f474cd",
   "metadata": {
    "scrolled": true
   },
   "outputs": [
    {
     "data": {
      "text/plain": [
       "''"
      ]
     },
     "execution_count": 128,
     "metadata": {},
     "output_type": "execute_result"
    }
   ],
   "source": [
    "root = tk.Tk()\n",
    "root.title(\"HESAP MAKİNESİ\")\n",
    "root.geometry(\"300x400\") \n"
   ]
  },
  {
   "cell_type": "code",
   "execution_count": 129,
   "id": "09517bf0",
   "metadata": {},
   "outputs": [],
   "source": [
    "entry = tk.Entry(root, width=16, borderwidth=5, font=(\"Arial\", 24), justify='right', bg=\"#1c1c1c\", fg=\"white\")\n",
    "entry.grid(row=0, column=0, columnspan=4, padx=10, pady=10)"
   ]
  },
  {
   "cell_type": "code",
   "execution_count": 130,
   "id": "9f638530",
   "metadata": {},
   "outputs": [],
   "source": [
    "def button_click(number):\n",
    "    current = entry.get()\n",
    "    entry.delete(0, tk.END)\n",
    "    entry.insert(0, current + str(number))\n"
   ]
  },
  {
   "cell_type": "code",
   "execution_count": 131,
   "id": "11408a3e",
   "metadata": {},
   "outputs": [],
   "source": [
    "def button_clear():\n",
    "    entry.delete(0, tk.END)"
   ]
  },
  {
   "cell_type": "code",
   "execution_count": 132,
   "id": "bb942c25",
   "metadata": {},
   "outputs": [],
   "source": [
    "def button_delete():\n",
    "    current = entry.get()\n",
    "    entry.delete(0, tk.END)\n",
    "    entry.insert(0, current[:-1])"
   ]
  },
  {
   "cell_type": "code",
   "execution_count": 133,
   "id": "09c1f5a2",
   "metadata": {},
   "outputs": [],
   "source": [
    "def button_delete():\n",
    "    current = entry.get()\n",
    "    entry.delete(0, tk.END)\n",
    "    entry.insert(0, current[:-1])"
   ]
  },
  {
   "cell_type": "code",
   "execution_count": 134,
   "id": "1184c78f",
   "metadata": {},
   "outputs": [],
   "source": [
    "def button_equal():\n",
    "    try:\n",
    "        result = eval(entry.get().replace('÷', '/').replace('×', '*'))\n",
    "        entry.delete(0, tk.END)\n",
    "        entry.insert(0, str(result))\n",
    "    except:\n",
    "        entry.delete(0, tk.END)\n",
    "        entry.insert(0, \"Error\")"
   ]
  },
  {
   "cell_type": "code",
   "execution_count": 135,
   "id": "0b3957a6",
   "metadata": {},
   "outputs": [],
   "source": [
    "buttons = [\n",
    "    ('AC', 'orange', 1), ('←', 'orange', 1), ('%', 'orange', 1), ('÷', 'orange', 1),\n",
    "    ('7', 'black', 1), ('8', 'black', 1), ('9', 'black', 1), ('×', 'orange', 1),\n",
    "    ('4', 'black', 1), ('5', 'black', 1), ('6', 'black', 1), ('-', 'orange', 1),\n",
    "    ('1', 'black', 1), ('2', 'black', 1), ('3', 'black', 1), ('+', 'orange', 1),\n",
    "    ('e', 'black', 1), ('0', 'black', 1), (',', 'black', 1), ('=', 'orange', 2)\n",
    "]"
   ]
  },
  {
   "cell_type": "code",
   "execution_count": 136,
   "id": "8c95528b",
   "metadata": {},
   "outputs": [],
   "source": [
    "row = 1\n",
    "col = 0"
   ]
  },
  {
   "cell_type": "code",
   "execution_count": 137,
   "id": "d25c9c5f",
   "metadata": {},
   "outputs": [],
   "source": [
    "for (text, color, width) in buttons:\n",
    "    if text == '=':\n",
    "        tk.Button(root, text=text, padx=20, pady=20, font=(\"Arial\", 18),\n",
    "                  bg=color, fg=\"white\", borderwidth=0,\n",
    "                  command=button_equal).grid(row=row, column=col, columnspan=width, sticky='nsew')\n",
    "        col += width\n",
    "    elif text == 'AC':\n",
    "        tk.Button(root, text=text, padx=20, pady=20, font=(\"Arial\", 18),\n",
    "                  bg=color, fg=\"white\", borderwidth=0,\n",
    "                  command=button_clear).grid(row=row, column=col, sticky='nsew')\n",
    "        col += 1\n",
    "    elif text == '←':\n",
    "        tk.Button(root, text=text, padx=20, pady=20, font=(\"Arial\", 18),\n",
    "                  bg=color, fg=\"white\", borderwidth=0,\n",
    "                  command=button_delete).grid(row=row, column=col, sticky='nsew')\n",
    "        col += 1\n",
    "    else:\n",
    "        tk.Button(root, text=text, padx=20, pady=20, font=(\"Arial\", 18),\n",
    "                  bg=color, fg=\"white\", borderwidth=0,\n",
    "                  command=lambda x=text: button_click(x)).grid(row=row, column=col, sticky='nsew')\n",
    "        col += 1\n",
    "    \n",
    "    if col > 3:\n",
    "        col = 0\n",
    "        row += 1"
   ]
  },
  {
   "cell_type": "code",
   "execution_count": 138,
   "id": "d72785f9",
   "metadata": {},
   "outputs": [],
   "source": [
    "for i in range(6):\n",
    "    root.grid_rowconfigure(i, weight=1)\n",
    "    root.grid_columnconfigure(i, weight=1)"
   ]
  },
  {
   "cell_type": "code",
   "execution_count": 139,
   "id": "00328dbe",
   "metadata": {},
   "outputs": [],
   "source": [
    "root.configure(bg=\"#1c1c1c\")"
   ]
  },
  {
   "cell_type": "code",
   "execution_count": null,
   "id": "b4dde2b1",
   "metadata": {},
   "outputs": [],
   "source": [
    "root.mainloop()"
   ]
  },
  {
   "cell_type": "code",
   "execution_count": null,
   "id": "f18957a8",
   "metadata": {},
   "outputs": [],
   "source": []
  }
 ],
 "metadata": {
  "kernelspec": {
   "display_name": "Python 3 (ipykernel)",
   "language": "python",
   "name": "python3"
  },
  "language_info": {
   "codemirror_mode": {
    "name": "ipython",
    "version": 3
   },
   "file_extension": ".py",
   "mimetype": "text/x-python",
   "name": "python",
   "nbconvert_exporter": "python",
   "pygments_lexer": "ipython3",
   "version": "3.11.5"
  }
 },
 "nbformat": 4,
 "nbformat_minor": 5
}
